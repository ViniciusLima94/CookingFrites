{
 "cells": [
  {
   "cell_type": "markdown",
   "metadata": {
    "id": "LWit_SmmMHuR"
   },
   "source": [
    "# **Ressources**"
   ]
  },
  {
   "cell_type": "markdown",
   "metadata": {
    "id": "aSyTeYWUrawM"
   },
   "source": [
    "## Software links\n",
    "- **Github** : https://github.com/brainets/frites/\n",
    "- **Documentation** : https://brainets.github.io/frites/"
   ]
  },
  {
   "cell_type": "markdown",
   "metadata": {
    "id": "3fQ6aZ1aoAIE"
   },
   "source": [
    "## Papers"
   ]
  },
  {
   "cell_type": "markdown",
   "metadata": {
    "id": "O20QTZg8rjzy"
   },
   "source": [
    "### Information theory\n",
    "- Timme and Lapish, 2018, [A tutorial for information theory in neuroscience](https://www.eneuro.org/content/eneuro/early/2018/06/29/ENEURO.0052-18.2018.full.pdf)\n",
    "- RAA Ince et al., 2017, [A statistical framework for neuroimaging data analysis based on mutual information estimated via a gaussian copula: Gaussian Copula Mutual Information](https://onlinelibrary.wiley.com/doi/pdfdirect/10.1002/hbm.23471)"
   ]
  },
  {
   "cell_type": "markdown",
   "metadata": {
    "id": "LdxR16UarmOH"
   },
   "source": [
    "### Statistics\n",
    "- Penny and holmes, 2007, [Random effects analysis](https://citeseerx.ist.psu.edu/viewdoc/download?doi=10.1.1.380.3435&rep=rep1&type=pdf)\n",
    "- Nichols and Holmes, 2002, [Nonparametric permutation tests for functional neuroimaging: a primer with examples](https://scholar.google.com/scholar_url?url=https://onlinelibrary.wiley.com/doi/pdfdirect/10.1002/hbm.1058&hl=fr&sa=T&oi=gsb-gga&ct=res&cd=0&d=7639226016862188227&ei=kuBzYo-jKJuVy9YPlcKL6Ac&scisig=AAGBfm23SI_p43GWskhvI6-GUZ432i-HTg)\n",
    "- Fries and Maris, 2021 (Biorxiv), [What to do if N is two?](https://arxiv.org/pdf/2106.14562)\n",
    "- Combrisson et al., 2021 (Biorxiv), [Group-level inference of information-based measures for the analyses of cognitive brain networks from neurophysiological data](https://www.biorxiv.org/content/10.1101/2021.08.14.456339.full.pdf)"
   ]
  },
  {
   "cell_type": "markdown",
   "metadata": {
    "id": "BQD-htUErpG5"
   },
   "source": [
    "### Functional Connectivity\n",
    "\n",
    "- Bastos and Schoffelen, 2015, [A Tutorial Review of Functional Connectivity Analysis Methods and Their Interpretational Pitfalls](https://www.researchgate.net/profile/Jan-Mathijs-Schoffelen/publication/290985451_A_Tutorial_Review_of_Functional_Connectivity_Analysis_Methods_and_Their_Interpretational_Pitfalls/links/569f8dec08aee4d26ad267db/A-Tutorial-Review-of-Functional-Connectivity-Analysis-Methods-and-Their-Interpretational-Pitfalls.pdf)"
   ]
  },
  {
   "cell_type": "markdown",
   "metadata": {
    "id": "wuojaA5-sJwp"
   },
   "source": [
    "## YouTube channel (why not)\n",
    "\n",
    "[Mike X Cohen youTube channel](https://www.youtube.com/channel/UCUR_LsXk7IYyueSnXcNextQ) : data analysis, time- phase-locked, evoked vs. induced, time-frequency decomposition, statistics etc.\n"
   ]
  },
  {
   "cell_type": "markdown",
   "metadata": {
    "id": "ppJ75ofKPM_4",
    "tags": []
   },
   "source": [
    "---\n",
    "# **Import libraries**"
   ]
  },
  {
   "cell_type": "code",
   "execution_count": null,
   "metadata": {
    "id": "PoKFYYCYNzo2"
   },
   "outputs": [],
   "source": [
    "import numpy as np\n",
    "import xarray as xr\n",
    "import pandas as pd\n",
    "import os\n",
    "\n",
    "from frites import set_mpl_style\n",
    "\n",
    "import matplotlib.pyplot as plt\n",
    "from matplotlib.lines import Line2D\n",
    "import seaborn as sns\n",
    "\n",
    "set_mpl_style()\n",
    "\n",
    "###############################################################################\n",
    "repl_outc = {-2: '-1€', -1: '-0€', 1: '+0€', 2: '+1€'}\n",
    "root = os.path.join('..', 'dataset')\n",
    "###############################################################################"
   ]
  },
  {
   "cell_type": "markdown",
   "metadata": {
    "id": "_G3eNHYkY6Ml"
   },
   "source": [
    "---\n",
    "# **Data manipulation**"
   ]
  },
  {
   "cell_type": "markdown",
   "metadata": {
    "id": "CXWnbWs2AS21"
   },
   "source": [
    "## Load and plot the data coming from a single subject"
   ]
  },
  {
   "cell_type": "code",
   "execution_count": null,
   "metadata": {
    "id": "MID-D6NAN5ti"
   },
   "outputs": [],
   "source": [
    "###############################################################################\n",
    "subject_nb = 2\n",
    "###############################################################################\n",
    "\n",
    "# load the high-gamma activity\n",
    "file_hga = os.path.join(root, 'hga', f'hga_s-{subject_nb}.nc')\n",
    "hga = xr.load_dataarray(file_hga)\n",
    "hga.name = 'HGA (subject_2)'\n",
    "hga"
   ]
  },
  {
   "cell_type": "markdown",
   "metadata": {
    "id": "X6Od1Qn2uQJ7"
   },
   "source": [
    "## Data selection (temporal and spatial)"
   ]
  },
  {
   "cell_type": "code",
   "execution_count": null,
   "metadata": {
    "id": "y-nXhHaVuPA7"
   },
   "outputs": [],
   "source": [
    "# single time point selection\n",
    "hga.sel(times=0.)\n",
    "\n",
    "# temporal interval selection\n",
    "hga.sel(times=slice(0., 1.))\n",
    "\n",
    "# channel selection\n",
    "hga.sel(channels='O3-O2')\n",
    "\n",
    "# combining channel and temporal selection\n",
    "hga.sel(channels='O3-O2', times=slice(0., 1.))"
   ]
  },
  {
   "cell_type": "markdown",
   "metadata": {
    "id": "03JgLJIGu45Q"
   },
   "source": [
    "## Operation on DataArray"
   ]
  },
  {
   "cell_type": "markdown",
   "metadata": {
    "id": "4iHzORpcxtKd"
   },
   "source": [
    "### `mean` operation"
   ]
  },
  {
   "cell_type": "code",
   "execution_count": null,
   "metadata": {
    "id": "o6nnqqARu5TO"
   },
   "outputs": [],
   "source": [
    "# mean over trials\n",
    "hga.mean('trials')\n",
    "\n",
    "# mean over channels\n",
    "hga.mean('channels')\n",
    "\n",
    "# mean over channels and trials\n",
    "hga.mean(['trials', 'channels'])\n"
   ]
  },
  {
   "cell_type": "markdown",
   "metadata": {
    "id": "Q1OEoFXqvXot"
   },
   "source": [
    "### `groupby` operation "
   ]
  },
  {
   "cell_type": "code",
   "execution_count": null,
   "metadata": {
    "id": "8sRs3HABvYM1"
   },
   "outputs": [],
   "source": [
    "hga.groupby('trials').mean()"
   ]
  },
  {
   "cell_type": "markdown",
   "metadata": {
    "id": "-LbHjeJRvl5F"
   },
   "source": [
    "---\n",
    "# **Data plotting**"
   ]
  },
  {
   "cell_type": "markdown",
   "metadata": {
    "id": "swI9ZaA9xxjQ"
   },
   "source": [
    "## Plot the overal mean (trials and channels)"
   ]
  },
  {
   "cell_type": "code",
   "execution_count": null,
   "metadata": {
    "id": "93potej6vmZO"
   },
   "outputs": [],
   "source": [
    "hga.mean(['trials', 'channels']).plot()\n",
    "plt.axvline(0, color='C3')\n",
    "plt.title('Mean HGA over trials and channels');"
   ]
  },
  {
   "cell_type": "markdown",
   "metadata": {
    "id": "pkTBKlg-v78T"
   },
   "source": [
    "## Plot the mean over trials but **per** channel"
   ]
  },
  {
   "cell_type": "code",
   "execution_count": null,
   "metadata": {
    "id": "5ZuYb9JYXsoA"
   },
   "outputs": [],
   "source": [
    "fg = hga.mean('trials').plot(x='times', col='channels', col_wrap=6)\n",
    "_ = [ax.axvline(0, color='C3') for ax in np.ravel(fg.axes)]"
   ]
  },
  {
   "cell_type": "markdown",
   "metadata": {
    "id": "LiT4lfCdwdDf"
   },
   "source": [
    "## Plot the mean HGA across contacts, per channel and per outcome"
   ]
  },
  {
   "cell_type": "code",
   "execution_count": null,
   "metadata": {
    "id": "nL75lMYHYNmu"
   },
   "outputs": [],
   "source": [
    "fg = hga.groupby('trials').mean().plot(x='times', col='channels', hue='trials', col_wrap=6)\n",
    "_ = [ax.axvline(0, color='C3') for ax in np.ravel(fg.axes)]"
   ]
  },
  {
   "cell_type": "markdown",
   "metadata": {
    "id": "hk4A9Z6mxd1b"
   },
   "source": [
    "---\n",
    "# **Group-level statistics**"
   ]
  },
  {
   "cell_type": "markdown",
   "metadata": {
    "id": "IHl8y92vNr5u"
   },
   "source": [
    "## Prerequisites"
   ]
  },
  {
   "cell_type": "markdown",
   "metadata": {
    "id": "sYO5z-02yYad"
   },
   "source": [
    "### Loading functions\n",
    "Functions for loading the data of a single subject or multiple subjects + attach parcel name in place of channel names"
   ]
  },
  {
   "cell_type": "code",
   "execution_count": null,
   "metadata": {
    "id": "ql1TagKCYPNA"
   },
   "outputs": [],
   "source": [
    "from mne.utils import ProgressBar\n",
    "\n",
    "###############################################################################\n",
    "###############################################################################\n",
    "#                 Load the data of a single subject\n",
    "###############################################################################\n",
    "###############################################################################\n",
    "\n",
    "def load_ss(subject_nb, use_roi=False):\n",
    "    \"\"\"Load the data of a single subject.\n",
    "    \n",
    "    Parameters\n",
    "    ----------\n",
    "    subject_nb : int\n",
    "        Subject number [0, 12]\n",
    "    \n",
    "    Returns\n",
    "    -------\n",
    "    hga : xarray.DataArray\n",
    "        Xarray containing the high-gamma activity\n",
    "    anat : pandas.DataFrame\n",
    "        Table containing the anatomical informations\n",
    "    beh : pandas.DataFrame\n",
    "        Table containing the behavioral informations\n",
    "    \"\"\"\n",
    "    # load the high-gamma activity\n",
    "    file_hga = os.path.join(root, 'hga', f'hga_s-{subject_nb}.nc')\n",
    "    hga = xr.load_dataarray(file_hga)\n",
    "\n",
    "    # load the name of the brain regions\n",
    "    file_anat = os.path.join(root, 'anat', f'anat_s-{subject_nb}.xlsx')\n",
    "    anat = pd.read_excel(file_anat)\n",
    "\n",
    "    # load the behavior\n",
    "    file_beh = os.path.join(root, 'beh', f'beh_s-{subject_nb}.xlsx')\n",
    "    beh = pd.read_excel(file_beh)\n",
    "    \n",
    "    if not use_roi:\n",
    "        return hga, anat, beh\n",
    "    if use_roi:\n",
    "          hga = hga.rename(channels='roi')\n",
    "          hga['roi'] = list(anat['roi'])\n",
    "          return hga\n",
    "\n",
    "\n",
    "###############################################################################\n",
    "###############################################################################\n",
    "#                 Load the data of multiple subjects\n",
    "###############################################################################\n",
    "###############################################################################\n",
    "\n",
    "def load_ms(s_range=[0, 11], model='outcome', condition='rew',\n",
    "            space='roi', mean_roi=True, prepend_suj_to_ch=True):\n",
    "    \"\"\"Load multiple subjects.\n",
    "    \n",
    "    Parameters\n",
    "    ----------\n",
    "    s_range : int or list\n",
    "        Subjects to load. Use either an integer (e.g. 7) to load a single\n",
    "        subject or a range of subjects (e.g. [5, 10])\n",
    "    model : {'outcome', 'pe', 'rt'}\n",
    "        Model to use. Use either :\n",
    "        \n",
    "            * 'outcome' : find differences in the neural activity between the\n",
    "              outcomes\n",
    "            * 'pe' : find regions with an activity correlating with the\n",
    "              prediction error\n",
    "    condition : {'rew', 'pun', 'context', 'null'}\n",
    "        Condition to load. Use either :\n",
    "        \n",
    "            * 'rew' : for outcomes {+0€; +1€}\n",
    "            * 'pun' : for outcomes {-1€; -0€}\n",
    "            * 'context' : for outcomes {-1€; +1€}\n",
    "            * 'null' : for outcomes {-0€; +0€}\n",
    "    space : {'channels', 'roi'}\n",
    "        Specify if the spatial dimension should be described with channel names\n",
    "        or with brain region names\n",
    "    mean_roi : bool\n",
    "        Specify if you want to take the mean high-gamma activity inside a brain\n",
    "        region\n",
    "    prepend_suj_to_ch : bool\n",
    "        Add subject name to each channel name\n",
    "    \n",
    "    Returns\n",
    "    -------\n",
    "    hga : list\n",
    "        List of high-gamma activity across subjects\n",
    "    \"\"\"\n",
    "    # inputs checking\n",
    "    if isinstance(s_range, int):\n",
    "        s_range = [s_range, s_range]\n",
    "    s_range[1] += 1\n",
    "    s_range[0], s_range[1] = max(s_range[0], 0), min(s_range[1], 12)\n",
    "    mesg = f\"Subject %i | model={model} | condition={condition} | space={space}\"\n",
    "    pbar = ProgressBar(range(s_range[0], s_range[1]), mesg=mesg % 0)\n",
    "    model = model.lower()\n",
    "    assert space in ['channels', 'parcels', 'roi']\n",
    "    \n",
    "    # get the code of the condition\n",
    "    outc = {\n",
    "        'rew': (+1, +2),\n",
    "        'pun': (-2, -1),\n",
    "        'context': (-2, +2),\n",
    "        'null': (-1, +1)\n",
    "    }[condition]\n",
    "    \n",
    "    # get the behavioral column to use\n",
    "    col = {\n",
    "        'outcome': 'code',\n",
    "        'pe': 'PE',\n",
    "        'rt': 'RT'\n",
    "    }[model]\n",
    "    \n",
    "    # load the data\n",
    "    hga = []\n",
    "    for n_s in range(s_range[0], s_range[1]):\n",
    "        pbar._tqdm.desc = mesg % n_s\n",
    "        # load the data of a single subject\n",
    "        _hga, _anat, _beh = load_ss(n_s)\n",
    "        _outc = _hga['trials'].data\n",
    "        _ch = _hga['channels'].data\n",
    "        \n",
    "        # replace trial dimension with the model\n",
    "        _hga = _hga.rename(trials=model)\n",
    "        _hga[model] = list(_beh[col])\n",
    "        \n",
    "        # get which outcome to keep\n",
    "        keep_outc = np.logical_or(_outc == outc[0], _outc == outc[1])\n",
    "        _hga = _hga[keep_outc, ...]\n",
    "        \n",
    "        # replace with brain regions\n",
    "        if space in ['parcels', 'roi']:\n",
    "            _hga = _hga.rename(channels=space)\n",
    "            _hga[space] = list(_anat['roi'])\n",
    "            \n",
    "            # take the mean of the hga per parcel\n",
    "            if mean_roi:\n",
    "                _hga = _hga.groupby(space).mean(space)\n",
    "        elif prepend_suj_to_ch and (space == 'channels'):\n",
    "            # prepend subject number to channel name\n",
    "            _hga['channels'] = [f\"suj{n_s}/{c}\" for c in _ch]\n",
    "        \n",
    "        # ascontinuous array\n",
    "        _hga.data = np.ascontiguousarray(_hga.data)\n",
    "        \n",
    "        hga.append(_hga)\n",
    "        pbar.update_with_increment_value(1)\n",
    "\n",
    "    return hga\n",
    "\n",
    "\n",
    "###############################################################################\n",
    "###############################################################################\n",
    "#                      Plot results of the stats\n",
    "###############################################################################\n",
    "###############################################################################\n",
    "\n",
    "def plot_mi(mi, pv, color='C0', p=0.05):\n",
    "    \"\"\"Plot the results of the statistics.\n",
    "    \"\"\"\n",
    "    # plot effect size\n",
    "    fg = mi.plot(x='times', col='roi', color=color)\n",
    "    fig = plt.gcf()\n",
    "    _ = [ax.axvline(0., color='C3') for ax in np.ravel(fg.axes)]\n",
    "\n",
    "    # plot the results of the stats\n",
    "    cl = xr.full_like(pv, 1.1 * mi.data.max())\n",
    "    cl.data[pv.data >= p] = np.nan\n",
    "\n",
    "    # plot the significant clusters\n",
    "    for n_r, r in enumerate(mi['roi'].data):\n",
    "        plt.sca(np.ravel(fg.axes)[n_r])\n",
    "        plt.plot(mi['times'].data, cl.sel(roi=r).data, color='C5', lw=4)\n",
    "        plt.xlabel('Times (s)')\n",
    "        if n_r == 0: plt.ylabel('MI (bits)')\n",
    "    \n",
    "    # add the legend\n",
    "    custom_lines = [\n",
    "        Line2D([0], [0], color=\"C5\", lw=6)\n",
    "    ]\n",
    "    titles = [f\"p < {p}\"]\n",
    "    plt.legend(\n",
    "        custom_lines, titles, ncol=1, bbox_to_anchor=(1., 0.7), fontsize=20,\n",
    "        bbox_transform=fig.transFigure, title=None,\n",
    "    );  "
   ]
  },
  {
   "cell_type": "markdown",
   "metadata": {
    "id": "c2LPaid8_Oju"
   },
   "source": [
    "### Understanding the loading function"
   ]
  },
  {
   "cell_type": "markdown",
   "metadata": {
    "id": "xpgBLXaeAGr-"
   },
   "source": [
    "#### Select the contrast"
   ]
  },
  {
   "cell_type": "code",
   "execution_count": null,
   "metadata": {
    "id": "s93t4zwwxDME"
   },
   "outputs": [],
   "source": [
    "# Differences of HGA according to the outcome values : +1€ vs. +0€ (rewarding condition)\n",
    "_ = load_ms(model='outcome', condition='rew')\n",
    "\n",
    "# Differences of HGA according to the outcome values : -1€ vs. -0€ (punishment condition)\n",
    "_ = load_ms(model='outcome', condition='pun')\n",
    "\n",
    "# Correlation between the HGA and the PE during the rewarding condition\n",
    "_ = load_ms(model='pe', condition='rew')\n",
    "\n",
    "# Correlation between the HGA and the PE during the punishment condition\n",
    "_ = load_ms(model='pe', condition='pun')"
   ]
  },
  {
   "cell_type": "markdown",
   "metadata": {
    "id": "Q2_p5xEIA72F"
   },
   "source": [
    "#### Understanding the output"
   ]
  },
  {
   "cell_type": "code",
   "execution_count": null,
   "metadata": {
    "id": "tUgw9Y7mA-ie"
   },
   "outputs": [],
   "source": [
    "hga_ms = load_ms(model='outcome', condition='rew')"
   ]
  },
  {
   "cell_type": "code",
   "execution_count": null,
   "metadata": {
    "id": "VPzlathdFL26"
   },
   "outputs": [],
   "source": [
    "# hga_ms"
   ]
  },
  {
   "cell_type": "markdown",
   "metadata": {
    "id": "AtO2VIVDFj14"
   },
   "source": [
    "### Plot the data across subjects"
   ]
  },
  {
   "cell_type": "code",
   "execution_count": null,
   "metadata": {
    "id": "RyeXWkmK9Ene"
   },
   "outputs": [],
   "source": [
    "# load and plot the data for the rewarding condition\n",
    "hga_ms = load_ms(model='outcome', condition='rew')\n",
    "hga_ms = xr.concat([k.groupby('outcome').mean() for k in hga_ms], 'roi').groupby(\n",
    "    'roi').mean()\n",
    "hga_ms['outcome'] = [repl_outc[o] for o in hga_ms['outcome'].data]\n",
    "hga_ms.name = 'HGA'\n",
    "fg = hga_ms.plot(x='times', hue='outcome', col='roi')\n",
    "_ = [ax.axvline(0, color='C3') for ax in np.ravel(fg.axes)]\n",
    "plt.gcf().suptitle(\"Mean HGA over the subjects during REW condition\",\n",
    "                   fontweight='bold', fontsize=22, y=1.1);\n",
    "\n",
    "# load and plot the data for the rewarding condition\n",
    "hga_ms = load_ms(model='outcome', condition='pun')\n",
    "hga_ms = xr.concat([k.groupby('outcome').mean() for k in hga_ms], 'roi').groupby(\n",
    "    'roi').mean()\n",
    "hga_ms['outcome'] = [repl_outc[o] for o in hga_ms['outcome'].data]\n",
    "hga_ms.name = 'HGA'\n",
    "fg = hga_ms.plot(x='times', hue='outcome', col='roi')\n",
    "_ = [ax.axvline(0, color='C3') for ax in np.ravel(fg.axes)]\n",
    "plt.gcf().suptitle(\"Mean HGA over the subjects during PUN condition\",\n",
    "                   fontweight='bold', fontsize=22, y=1.1);"
   ]
  },
  {
   "cell_type": "markdown",
   "metadata": {
    "id": "JUe1KElMN5gq"
   },
   "source": [
    "## `DatasetEphy` : multi-subjects container"
   ]
  },
  {
   "cell_type": "code",
   "execution_count": null,
   "metadata": {
    "id": "5kBnCdJ6-Eyk"
   },
   "outputs": [],
   "source": [
    "from frites.dataset import DatasetEphy\n",
    "\n",
    "# load the data of all of the subjects during the rewarding condition\n",
    "hga_ms = load_ms(model='outcome', condition='rew')\n",
    "ds = DatasetEphy(hga_ms, y='outcome', times='times', roi='roi')\n",
    "ds\n"
   ]
  },
  {
   "cell_type": "markdown",
   "metadata": {
    "id": "g2IOXFYGOBtk"
   },
   "source": [
    "## Contrasting HGA between conditions"
   ]
  },
  {
   "cell_type": "markdown",
   "metadata": {
    "id": "Xp-TsB2tPesc"
   },
   "source": [
    "### $HGA_{+1€} vs. HGA_{+0€}$"
   ]
  },
  {
   "cell_type": "code",
   "execution_count": null,
   "metadata": {
    "id": "sGWDp9OGKekd"
   },
   "outputs": [],
   "source": [
    "from frites.workflow import WfMi\n",
    "\n",
    "# define a workflow of mutual-information\n",
    "wf = WfMi(mi_type='cd', inference='ffx')\n",
    "\n",
    "# run the workflow\n",
    "mi, pv = wf.fit(ds, n_perm=200)\n",
    "\n",
    "plot_mi(mi, pv, color='C1')"
   ]
  },
  {
   "cell_type": "markdown",
   "metadata": {
    "id": "a5Gfp3RZPhf2"
   },
   "source": [
    "### $HGA_{-1€} vs. HGA_{-0€}$"
   ]
  },
  {
   "cell_type": "code",
   "execution_count": null,
   "metadata": {
    "id": "Ld5CfjIDKmdP"
   },
   "outputs": [],
   "source": [
    "# load the data of all of the subjects during the punishing condition\n",
    "hga_ms = load_ms(model='outcome', condition='pun')\n",
    "ds = DatasetEphy(hga_ms, y='outcome', times='times', roi='roi')\n",
    "\n",
    "wf = WfMi(mi_type='cd', inference='ffx')\n",
    "mi, pv = wf.fit(ds, n_perm=200)\n",
    "\n",
    "plot_mi(mi, pv, color='C0')"
   ]
  },
  {
   "cell_type": "markdown",
   "metadata": {
    "id": "3ajcePNuGfec"
   },
   "source": [
    "### Relation between the HGA and the Reward Prediction Error (RPE)"
   ]
  },
  {
   "cell_type": "code",
   "execution_count": null,
   "metadata": {
    "id": "PUklL1Z6LGJq"
   },
   "outputs": [],
   "source": [
    "# load the data of all of the subjects during the rewarding condition\n",
    "hga_ms = load_ms(model='pe', condition='rew')\n",
    "ds = DatasetEphy(hga_ms, y='pe', times='times', roi='roi')\n",
    "\n",
    "# this tim we are using the continuous-continuous MI\n",
    "wf = WfMi(mi_type='cc', inference='ffx')\n",
    "mi, pv = wf.fit(ds, n_perm=200, n_jobs=-1, random_state=0)\n",
    "\n",
    "plot_mi(mi, pv, color='C1')\n",
    "plt.ylim(-0.001, 0.05);"
   ]
  },
  {
   "cell_type": "markdown",
   "metadata": {
    "id": "IKK4cAswJGWe"
   },
   "source": [
    "### Relation between the HGA and the Punishment Prediction Error (PPE)"
   ]
  },
  {
   "cell_type": "code",
   "execution_count": null,
   "metadata": {
    "id": "YICF_xNVRqbV"
   },
   "outputs": [],
   "source": [
    "# load the data of all of the subjects during the rewarding condition\n",
    "hga_ms = load_ms(model='pe', condition='pun')\n",
    "ds = DatasetEphy(hga_ms, y='pe', times='times', roi='roi')\n",
    "\n",
    "# this tim we are using the continuous-continuous MI\n",
    "wf = WfMi(mi_type='cc', inference='ffx')\n",
    "mi, pv = wf.fit(ds, n_perm=200, n_jobs=-1, random_state=0)\n",
    "\n",
    "plot_mi(mi, pv, color='C0')\n",
    "plt.ylim(-0.001, 0.05)"
   ]
  },
  {
   "cell_type": "markdown",
   "metadata": {
    "id": "7kmb7vZFJOZJ"
   },
   "source": [
    "**Conclusion**\n",
    "\n",
    "\n",
    "1.   **aINS** and **dlPFC** : more Punishment related\n",
    "2.   **lOFC** and **vmPFC** : more Reward related"
   ]
  },
  {
   "cell_type": "markdown",
   "metadata": {
    "id": "S9jksA91J54r"
   },
   "source": [
    "---\n",
    "# **Functional connectivity (FC)**"
   ]
  },
  {
   "cell_type": "markdown",
   "metadata": {
    "id": "Th55vmDaKIkX"
   },
   "source": [
    "## Across-time points static FC"
   ]
  },
  {
   "cell_type": "code",
   "execution_count": null,
   "metadata": {
    "id": "vsfxm0jTIEzH"
   },
   "outputs": [],
   "source": [
    "from frites.conn import conn_dfc\n",
    "\n",
    "# load the data of a single subject\n",
    "hga = load_ss(2, use_roi=True).sel(times=slice(0., 1.5))\n",
    "\n",
    "# compute the MI between pairs of channels\n",
    "dfc = conn_dfc(hga, roi='roi', times='times', roi_relation='both') # roi_relation = {'both', 'intra', 'inter'}"
   ]
  },
  {
   "cell_type": "code",
   "execution_count": null,
   "metadata": {
    "id": "fUS7RHQdLSfS"
   },
   "outputs": [],
   "source": [
    "dfc"
   ]
  },
  {
   "cell_type": "markdown",
   "metadata": {
    "id": "BaLuLIkBWurh"
   },
   "source": [
    "## Across-time points dynamic FC"
   ]
  },
  {
   "cell_type": "markdown",
   "metadata": {
    "id": "Nune0hbOX27z"
   },
   "source": [
    "### Define sliding windows"
   ]
  },
  {
   "cell_type": "code",
   "execution_count": null,
   "metadata": {
    "id": "0VK32ARzL6ly"
   },
   "outputs": [],
   "source": [
    "from frites.conn import define_windows, plot_windows\n",
    "\n",
    "# load the data of a single subject\n",
    "hga = load_ss(2, use_roi=True)\n",
    "\n",
    "# get the time vector\n",
    "times = hga['times'].data\n",
    "\n",
    "# define sliding windows\n",
    "win, _ = define_windows(times, slwin_len=0.4, slwin_step=0.25)\n",
    "\n",
    "# plot the sliding windows\n",
    "plot_windows(times, win, title='Sliding windows example')\n",
    "plt.autoscale(tight=True)"
   ]
  },
  {
   "cell_type": "markdown",
   "metadata": {
    "id": "mIRpgpTbX5in"
   },
   "source": [
    "### Compute FC within each window"
   ]
  },
  {
   "cell_type": "code",
   "execution_count": null,
   "metadata": {
    "id": "fRUF_ZBsL-b4"
   },
   "outputs": [],
   "source": [
    "dfc = conn_dfc(hga, roi='roi', times='times', roi_relation='intra', win_sample=win)\n",
    "dfc"
   ]
  },
  {
   "cell_type": "markdown",
   "metadata": {
    "id": "iyNK1kscYB03"
   },
   "source": [
    "## FC across all subjects"
   ]
  },
  {
   "cell_type": "markdown",
   "metadata": {
    "id": "gSEDlGtlYcyh"
   },
   "source": [
    "### Static FC"
   ]
  },
  {
   "cell_type": "code",
   "execution_count": null,
   "metadata": {
    "id": "xneo2yEANQ_o"
   },
   "outputs": [],
   "source": [
    "# load the data of all of the subjects for outcomes {-1€, +1€}\n",
    "hga_ms = load_ms(mean_roi=False, condition='context')\n",
    "\n",
    "dfc = []\n",
    "for hga in hga_ms:\n",
    "  # skip if the subject has a unique roi\n",
    "  if len(np.unique(hga['roi'])) == 1: continue\n",
    "  print(hga.name)\n",
    "\n",
    "  # select the first 500ms\n",
    "  hga = hga.sel(times=slice(0., .5))\n",
    "\n",
    "  # compute the dfc for this single subject\n",
    "  _dfc = conn_dfc(hga, times='times', roi='roi', roi_relation='inter',\n",
    "                  verbose=False)\n",
    "\n",
    "  # replace trial names\n",
    "  _dfc['trials'] = [repl_outc[k] for k in _dfc['trials'].data]\n",
    "\n",
    "  # mean over trials per condition\n",
    "  _dfc = _dfc.groupby('trials').mean()\n",
    "\n",
    "  dfc.append(_dfc.to_dataframe('FC'))\n",
    "\n",
    "dfc = pd.concat(dfc).reset_index()"
   ]
  },
  {
   "cell_type": "code",
   "execution_count": null,
   "metadata": {
    "id": "UTAlsk-MNsMN"
   },
   "outputs": [],
   "source": [
    "plt.figure(figsize=(12, 8))\n",
    "sns.boxplot(\n",
    "    data=dfc, x='roi', y='FC', hue='trials', showfliers=False,\n",
    "    hue_order=['-1€', '+1€']\n",
    ");\n",
    "plt.title(\"Static FC estimated between [0., 500]ms for -1€ and +1€ outcomes\",\n",
    "          fontweight='bold');"
   ]
  },
  {
   "cell_type": "markdown",
   "metadata": {
    "id": "_K5-uGUAZXtl"
   },
   "source": [
    "### Dynamic FC"
   ]
  },
  {
   "cell_type": "code",
   "execution_count": null,
   "metadata": {
    "id": "aB4mCY3RN7N7"
   },
   "outputs": [],
   "source": [
    "# load the data of all of the subjects for outcomes {-1€, +1€}\n",
    "hga_ms = load_ms(mean_roi=False, condition='context')\n",
    "\n",
    "# define the sliding windows\n",
    "win, _ = define_windows(times, slwin_len=0.4, slwin_step=0.02)\n",
    "\n",
    "dfc = []\n",
    "for hga in hga_ms:\n",
    "  # skip if the subject has a unique roi\n",
    "  if len(np.unique(hga['roi'])) == 1: continue\n",
    "  print(hga.name)\n",
    "\n",
    "  # compute the dfc for this single subject\n",
    "  _dfc = conn_dfc(hga, times='times', roi='roi', roi_relation='inter',\n",
    "                  verbose=False, win_sample=win)\n",
    "\n",
    "  # replace trial names\n",
    "  _dfc['trials'] = [repl_outc[k] for k in _dfc['trials'].data]\n",
    "\n",
    "  # mean over trials and brain regions\n",
    "  _dfc = _dfc.groupby('trials').mean()\n",
    "\n",
    "  dfc.append(_dfc)\n",
    "\n",
    "dfc = xr.concat(dfc, 'roi')"
   ]
  },
  {
   "cell_type": "code",
   "execution_count": null,
   "metadata": {
    "id": "fkCBWUxVOmpa"
   },
   "outputs": [],
   "source": [
    "dfc_gp = dfc.groupby('roi').mean().sel(trials=['-1€', '+1€'])\n",
    "dfc_gp.name = 'DFC'\n",
    "fg = dfc_gp.plot(x='times', hue='trials', col='roi', col_wrap=3)\n",
    "_ = [ax.axvline(0., color='C3') for ax in np.ravel(fg.axes)]\n",
    "plt.gcf().suptitle(\"Dynamic FC for -1€ and +1€ outcomes\", fontweight='bold',\n",
    "                   fontsize=22, y=1.06);"
   ]
  },
  {
   "cell_type": "markdown",
   "metadata": {
    "id": "LEhdmXdR5ib3"
   },
   "source": [
    "## Single-trial coherence"
   ]
  },
  {
   "cell_type": "markdown",
   "metadata": {
    "id": "as-V_Fe95mFr"
   },
   "source": [
    "### Simulated data"
   ]
  },
  {
   "cell_type": "code",
   "execution_count": null,
   "metadata": {
    "id": "UPMurSIeXKgf"
   },
   "outputs": [],
   "source": [
    "from frites.simulations import StimSpecAR\n",
    "\n",
    "ar = StimSpecAR()\n",
    "sim = ar.fit(ar_type='osc_40', n_epochs=300, n_std=5, n_stim=1)"
   ]
  },
  {
   "cell_type": "markdown",
   "metadata": {
    "id": "e2TfGDIf5p13"
   },
   "source": [
    "### Compute the single-trial coherence"
   ]
  },
  {
   "cell_type": "code",
   "execution_count": null,
   "metadata": {
    "id": "R8RiBtG4ZEie"
   },
   "outputs": [],
   "source": [
    "from frites.conn import conn_spec\n",
    "\n",
    "freqs = np.linspace(10, 70, 50)\n",
    "\n",
    "conn = conn_spec(\n",
    "    sim, roi='roi', times='times', freqs=freqs, sfreq=200., n_cycles=freqs / 4,\n",
    "    sm_times=.2, mode='multitaper', mt_bandwidth=4\n",
    ").squeeze().sel(times=slice(-.4, .75))"
   ]
  },
  {
   "cell_type": "code",
   "execution_count": null,
   "metadata": {
    "id": "GtKNq_3ydZYG"
   },
   "outputs": [],
   "source": [
    "plt.figure(figsize=(20, 7))\n",
    "plt.subplot(121)\n",
    "conn.mean('trials').plot(x='times', y='freqs', cmap='RdBu_r')\n",
    "plt.axvline(0., color='w', lw=3)\n",
    "plt.axhline(40, linestyle='--', color='w')\n",
    "plt.xlabel('Times (s)'), plt.ylabel('Frequencies (Hz)')\n",
    "plt.title(\"Mean over the trials of the coherence\", fontweight='bold')\n",
    "\n",
    "plt.subplot(122)\n",
    "conn_c = conn.sel(freqs=40., method='nearest')\n",
    "conn_c['trials'] = np.arange(300)\n",
    "conn_c.plot(x='times', y='trials', cmap='RdBu_r')\n",
    "plt.axvline(0., color='w', lw=3)\n",
    "plt.xlabel('Times (s)'), plt.ylabel('Frequencies (Hz)')\n",
    "plt.title(\"Single-trial coherence at 40hz\", fontweight='bold');"
   ]
  },
  {
   "cell_type": "code",
   "execution_count": null,
   "metadata": {
    "id": "w5f2GiThe701"
   },
   "outputs": [],
   "source": []
  }
 ],
 "metadata": {
  "colab": {
   "collapsed_sections": [],
   "name": "in2pb_22.ipynb",
   "provenance": [],
   "toc_visible": true
  },
  "kernelspec": {
   "display_name": "Python 3",
   "language": "python",
   "name": "python3"
  },
  "language_info": {
   "codemirror_mode": {
    "name": "ipython",
    "version": 3
   },
   "file_extension": ".py",
   "mimetype": "text/x-python",
   "name": "python",
   "nbconvert_exporter": "python",
   "pygments_lexer": "ipython3",
   "version": "3.7.8"
  }
 },
 "nbformat": 4,
 "nbformat_minor": 4
}
