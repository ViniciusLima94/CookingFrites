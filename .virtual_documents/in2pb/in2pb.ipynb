import numpy as np
import xarray as xr
import pandas as pd
import os

from frites import set_mpl_style

import matplotlib.pyplot as plt
from matplotlib.lines import Line2D
import seaborn as sns

set_mpl_style()

###############################################################################
repl_outc = {-2: '-1€', -1: '-0€', 1: '+0€', 2: '+1€'}

# get path to current notebook
nb_path = os.path.dirname(os.path.realpath("in2pb_22.ipynb"))
root = os.path.join(nb_path, '..', 'dataset')
###############################################################################


###############################################################################
subject_nb = 2
###############################################################################

# load the high-gamma activity
file_hga = os.path.join(root, 'hga', f'hga_s-{subject_nb}.nc')
hga = xr.load_dataarray(file_hga)
hga.name = 'HGA (subject_2)'
hga


# single time point selection
hga.sel(times=0.)

# temporal interval selection
hga.sel(times=slice(0., 1.))

# channel selection
hga.sel(channels='O3-O2')

# combining channel and temporal selection
hga.sel(channels='O3-O2', times=slice(0., 1.))


# mean over trials
hga.mean('trials')

# mean over channels
hga.mean('channels')

# mean over channels and trials
hga.mean(['trials', 'channels'])



hga.groupby('trials').mean()


hga.mean(['trials', 'channels']).plot()
plt.axvline(0, color='C3')
plt.title('Mean HGA over trials and channels');


fg = hga.mean('trials').plot(x='times', col='channels', col_wrap=6)
_ = [ax.axvline(0, color='C3') for ax in np.ravel(fg.axes)]


fg = hga.groupby('trials').mean().plot(x='times', col='channels', hue='trials', col_wrap=6)
_ = [ax.axvline(0, color='C3') for ax in np.ravel(fg.axes)]


from mne.utils import ProgressBar

###############################################################################
###############################################################################
#                 Load the data of a single subject
###############################################################################
###############################################################################

def load_ss(subject_nb, use_roi=False):
    """Load the data of a single subject.
    
    Parameters
    ----------
    subject_nb : int
        Subject number [0, 12]
    
    Returns
    -------
    hga : xarray.DataArray
        Xarray containing the high-gamma activity
    anat : pandas.DataFrame
        Table containing the anatomical informations
    beh : pandas.DataFrame
        Table containing the behavioral informations
    """
    # load the high-gamma activity
    file_hga = os.path.join(root, 'hga', f'hga_s-{subject_nb}.nc')
    hga = xr.load_dataarray(file_hga)

    # load the name of the brain regions
    file_anat = os.path.join(root, 'anat', f'anat_s-{subject_nb}.xlsx')
    anat = pd.read_excel(file_anat)

    # load the behavior
    file_beh = os.path.join(root, 'beh', f'beh_s-{subject_nb}.xlsx')
    beh = pd.read_excel(file_beh)
    
    if not use_roi:
        return hga, anat, beh
    if use_roi:
          hga = hga.rename(channels='roi')
          hga['roi'] = list(anat['roi'])
          return hga


###############################################################################
###############################################################################
#                 Load the data of multiple subjects
###############################################################################
###############################################################################

def load_ms(s_range=[0, 11], model='outcome', condition='rew',
            space='roi', mean_roi=True, prepend_suj_to_ch=True):
    """Load multiple subjects.
    
    Parameters
    ----------
    s_range : int or list
        Subjects to load. Use either an integer (e.g. 7) to load a single
        subject or a range of subjects (e.g. [5, 10])
    model : {'outcome', 'pe', 'rt'}
        Model to use. Use either :
        
            * 'outcome' : find differences in the neural activity between the
              outcomes
            * 'pe' : find regions with an activity correlating with the
              prediction error
    condition : {'rew', 'pun', 'context', 'null'}
        Condition to load. Use either :
        
            * 'rew' : for outcomes {+0€; +1€}
            * 'pun' : for outcomes {-1€; -0€}
            * 'context' : for outcomes {-1€; +1€}
            * 'null' : for outcomes {-0€; +0€}
    space : {'channels', 'roi'}
        Specify if the spatial dimension should be described with channel names
        or with brain region names
    mean_roi : bool
        Specify if you want to take the mean high-gamma activity inside a brain
        region
    prepend_suj_to_ch : bool
        Add subject name to each channel name
    
    Returns
    -------
    hga : list
        List of high-gamma activity across subjects
    """
    # inputs checking
    if isinstance(s_range, int):
        s_range = [s_range, s_range]
    s_range[1] += 1
    s_range[0], s_range[1] = max(s_range[0], 0), min(s_range[1], 12)
    mesg = f"Subject %i | model={model} | condition={condition} | space={space}"
    pbar = ProgressBar(range(s_range[0], s_range[1]), mesg=mesg % 0)
    model = model.lower()
    assert space in ['channels', 'parcels', 'roi']
    
    # get the code of the condition
    outc = {
        'rew': (+1, +2),
        'pun': (-2, -1),
        'context': (-2, +2),
        'null': (-1, +1)
    }[condition]
    
    # get the behavioral column to use
    col = {
        'outcome': 'code',
        'pe': 'PE',
        'rt': 'RT'
    }[model]
    
    # load the data
    hga = []
    for n_s in range(s_range[0], s_range[1]):
        pbar._tqdm.desc = mesg % n_s
        # load the data of a single subject
        _hga, _anat, _beh = load_ss(n_s)
        _outc = _hga['trials'].data
        _ch = _hga['channels'].data
        
        # replace trial dimension with the model
        _hga = _hga.rename(trials=model)
        _hga[model] = list(_beh[col])
        
        # get which outcome to keep
        keep_outc = np.logical_or(_outc == outc[0], _outc == outc[1])
        _hga = _hga[keep_outc, ...]
        
        # replace with brain regions
        if space in ['parcels', 'roi']:
            _hga = _hga.rename(channels=space)
            _hga[space] = list(_anat['roi'])
            
            # take the mean of the hga per parcel
            if mean_roi:
                _hga = _hga.groupby(space).mean(space)
        elif prepend_suj_to_ch and (space == 'channels'):
            # prepend subject number to channel name
            _hga['channels'] = [f"suj{n_s}/{c}" for c in _ch]
        
        # ascontinuous array
        _hga.data = np.ascontiguousarray(_hga.data)
        
        hga.append(_hga)
        pbar.update_with_increment_value(1)

    return hga


###############################################################################
###############################################################################
#                      Plot results of the stats
###############################################################################
###############################################################################

def plot_mi(mi, pv, color='C0', p=0.05):
    """Plot the results of the statistics.
    """
    # plot effect size
    fg = mi.plot(x='times', col='roi', color=color)
    fig = plt.gcf()
    _ = [ax.axvline(0., color='C3') for ax in np.ravel(fg.axes)]

    # plot the results of the stats
    cl = xr.full_like(pv, 1.1 * mi.data.max())
    cl.data[pv.data >= p] = np.nan

    # plot the significant clusters
    for n_r, r in enumerate(mi['roi'].data):
        plt.sca(np.ravel(fg.axes)[n_r])
        plt.plot(mi['times'].data, cl.sel(roi=r).data, color='C5', lw=4)
        plt.xlabel('Times (s)')
        if n_r == 0: plt.ylabel('MI (bits)')
    
    # add the legend
    custom_lines = [
        Line2D([0], [0], color="C5", lw=6)
    ]
    titles = [f"p < {p}"]
    plt.legend(
        custom_lines, titles, ncol=1, bbox_to_anchor=(1., 0.7), fontsize=20,
        bbox_transform=fig.transFigure, title=None,
    );  


# Differences of HGA according to the outcome values : +1€ vs. +0€ (rewarding condition)
_ = load_ms(model='outcome', condition='rew')

# Differences of HGA according to the outcome values : -1€ vs. -0€ (punishment condition)
_ = load_ms(model='outcome', condition='pun')

# Correlation between the HGA and the PE during the rewarding condition
_ = load_ms(model='pe', condition='rew')

# Correlation between the HGA and the PE during the punishment condition
_ = load_ms(model='pe', condition='pun')


hga_ms = load_ms(model='outcome', condition='rew')


# hga_ms


# load and plot the data for the rewarding condition
hga_ms = load_ms(model='outcome', condition='rew')
hga_ms = xr.concat([k.groupby('outcome').mean() for k in hga_ms], 'roi').groupby(
    'roi').mean()
hga_ms['outcome'] = [repl_outc[o] for o in hga_ms['outcome'].data]
hga_ms.name = 'HGA'
fg = hga_ms.plot(x='times', hue='outcome', col='roi')
_ = [ax.axvline(0, color='C3') for ax in np.ravel(fg.axes)]
plt.gcf().suptitle("Mean HGA over the subjects during REW condition",
                   fontweight='bold', fontsize=22, y=1.1);

# load and plot the data for the rewarding condition
hga_ms = load_ms(model='outcome', condition='pun')
hga_ms = xr.concat([k.groupby('outcome').mean() for k in hga_ms], 'roi').groupby(
    'roi').mean()
hga_ms['outcome'] = [repl_outc[o] for o in hga_ms['outcome'].data]
hga_ms.name = 'HGA'
fg = hga_ms.plot(x='times', hue='outcome', col='roi')
_ = [ax.axvline(0, color='C3') for ax in np.ravel(fg.axes)]
plt.gcf().suptitle("Mean HGA over the subjects during PUN condition",
                   fontweight='bold', fontsize=22, y=1.1);


from frites.dataset import DatasetEphy

# load the data of all of the subjects during the rewarding condition
hga_ms = load_ms(model='outcome', condition='rew')
ds = DatasetEphy(hga_ms, y='outcome', times='times', roi='roi')
ds



from frites.workflow import WfMi

# define a workflow of mutual-information
wf = WfMi(mi_type='cd', inference='ffx')

# run the workflow
mi, pv = wf.fit(ds, n_perm=200, random_state=0)

plot_mi(mi, pv, color='C1')


# load the data of all of the subjects during the punishing condition
hga_ms = load_ms(model='outcome', condition='pun')
ds = DatasetEphy(hga_ms, y='outcome', times='times', roi='roi')

wf = WfMi(mi_type='cd', inference='ffx')
mi, pv = wf.fit(ds, n_perm=200, random_state=0)

plot_mi(mi, pv, color='C0')


# load the data of all of the subjects during the rewarding condition
hga_ms = load_ms(model='pe', condition='rew')
ds = DatasetEphy(hga_ms, y='pe', times='times', roi='roi')

# this tim we are using the continuous-continuous MI
wf = WfMi(mi_type='cc', inference='ffx')
mi_r, pv_r = wf.fit(ds, n_perm=200, n_jobs=-1, random_state=0)

plot_mi(mi_r, pv_r, color='C1')
plt.ylim(-0.001, 0.05);


# load the data of all of the subjects during the rewarding condition
hga_ms = load_ms(model='pe', condition='pun')
ds = DatasetEphy(hga_ms, y='pe', times='times', roi='roi')

# this tim we are using the continuous-continuous MI
wf = WfMi(mi_type='cc', inference='ffx')
mi_p, pv_p = wf.fit(ds, n_perm=200, n_jobs=-1, random_state=0)

plot_mi(mi_p, pv_p, color='C0')
plt.ylim(-0.001, 0.05)


# merge the two conditions
mi_rp = xr.Dataset({
    'PPE': mi_p,
    'RPE': mi_r
}).to_array('condition')

# plot the result
mi_rp.plot(x='times', hue='condition', col='roi')


from frites.conn import conn_dfc

# load the data of a single subject
hga = load_ss(2, use_roi=True).sel(times=slice(0., 1.5))

# compute the MI between pairs of channels
dfc = conn_dfc(hga, roi='roi', times='times', roi_relation='both') # roi_relation = {'both', 'intra', 'inter'}


dfc


from frites.conn import define_windows, plot_windows

# load the data of a single subject
hga = load_ss(2, use_roi=True)

# get the time vector
times = hga['times'].data

# define sliding windows
win, _ = define_windows(times, slwin_len=0.4, slwin_step=0.25)

# plot the sliding windows
plot_windows(times, win, title='Sliding windows example')
plt.autoscale(tight=True)


dfc = conn_dfc(hga, roi='roi', times='times', roi_relation='intra', win_sample=win)
dfc


# load the data of all of the subjects for outcomes {-1€, +1€}
hga_ms = load_ms(mean_roi=False, condition='context')

dfc = []
for hga in hga_ms:
  # skip if the subject has a unique roi
  if len(np.unique(hga['roi'])) == 1: continue
  print(hga.name)

  # select the first 500ms
  hga = hga.sel(times=slice(0., .5))

  # compute the dfc for this single subject
  _dfc = conn_dfc(hga, times='times', roi='roi', roi_relation='inter',
                  verbose=False)

  # replace trial names
  _dfc['trials'] = [repl_outc[k] for k in _dfc['trials'].data]

  # mean over trials per condition
  _dfc = _dfc.groupby('trials').mean()

  dfc.append(_dfc.to_dataframe('FC'))

dfc = pd.concat(dfc).reset_index()


plt.figure(figsize=(12, 8))
sns.boxplot(
    data=dfc, x='roi', y='FC', hue='trials', showfliers=False,
    hue_order=['-1€', '+1€']
);
plt.title("Static FC estimated between [0., 500]ms for -1€ and +1€ outcomes",
          fontweight='bold');


# load the data of all of the subjects for outcomes {-1€, +1€}
hga_ms = load_ms(mean_roi=False, condition='context')

# define the sliding windows
win, _ = define_windows(times, slwin_len=0.4, slwin_step=0.02)

dfc = []
for hga in hga_ms:
  # skip if the subject has a unique roi
  if len(np.unique(hga['roi'])) == 1: continue
  print(hga.name)

  # compute the dfc for this single subject
  _dfc = conn_dfc(hga, times='times', roi='roi', roi_relation='inter',
                  verbose=False, win_sample=win)

  # replace trial names
  _dfc['trials'] = [repl_outc[k] for k in _dfc['trials'].data]

  # mean over trials and brain regions
  _dfc = _dfc.groupby('trials').mean()

  dfc.append(_dfc)

dfc = xr.concat(dfc, 'roi')


dfc_gp = dfc.groupby('roi').mean().sel(trials=['-1€', '+1€'])
dfc_gp.name = 'DFC'
fg = dfc_gp.plot(x='times', hue='trials', col='roi', col_wrap=3)
_ = [ax.axvline(0., color='C3') for ax in np.ravel(fg.axes)]
plt.gcf().suptitle("Dynamic FC for -1€ and +1€ outcomes", fontweight='bold',
                   fontsize=22, y=1.06);


from frites.simulations import StimSpecAR

ar = StimSpecAR()
sim = ar.fit(ar_type='osc_40', n_epochs=300, n_std=5, n_stim=1)


from frites.conn import conn_spec

freqs = np.linspace(10, 70, 50)

conn = conn_spec(
    sim, roi='roi', times='times', freqs=freqs, sfreq=200., n_cycles=freqs / 4,
    sm_times=.2, mode='multitaper', mt_bandwidth=4
).squeeze().sel(times=slice(-.4, .75))


plt.figure(figsize=(20, 7))
plt.subplot(121)
conn.mean('trials').plot(x='times', y='freqs', cmap='RdBu_r')
plt.axvline(0., color='w', lw=3)
plt.axhline(40, linestyle='--', color='w')
plt.xlabel('Times (s)'), plt.ylabel('Frequencies (Hz)')
plt.title("Mean over the trials of the coherence", fontweight='bold')

plt.subplot(122)
conn_c = conn.sel(freqs=40., method='nearest')
conn_c['trials'] = np.arange(300)
conn_c.plot(x='times', y='trials', cmap='RdBu_r')
plt.axvline(0., color='w', lw=3)
plt.xlabel('Times (s)'), plt.ylabel('Trials')
plt.title("Single-trial coherence at 40hz", fontweight='bold');



